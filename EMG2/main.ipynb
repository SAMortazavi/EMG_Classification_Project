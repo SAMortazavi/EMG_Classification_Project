{
 "cells": [
  {
   "cell_type": "markdown",
   "id": "91aa4a95",
   "metadata": {},
   "source": [
    "## کتابخانه های مورد استفاده"
   ]
  },
  {
   "cell_type": "code",
   "execution_count": 12,
   "id": "fixed-software",
   "metadata": {
    "_cell_guid": "34816bf3-73db-471f-8688-fede88a2b8ab",
    "_uuid": "846bc379-8d36-47f5-a9c0-ede839c57e81",
    "collapsed": false,
    "execution": {
     "iopub.execute_input": "2021-05-29T04:17:11.916257Z",
     "iopub.status.busy": "2021-05-29T04:17:11.915101Z",
     "iopub.status.idle": "2021-05-29T04:17:11.931121Z",
     "shell.execute_reply": "2021-05-29T04:17:11.931686Z",
     "shell.execute_reply.started": "2021-05-28T18:10:16.228882Z"
    },
    "jupyter": {
     "outputs_hidden": false
    },
    "papermill": {
     "duration": 0.037778,
     "end_time": "2021-05-29T04:17:11.932092",
     "exception": false,
     "start_time": "2021-05-29T04:17:11.894314",
     "status": "completed"
    },
    "tags": []
   },
   "outputs": [],
   "source": [
    "import numpy as np \n",
    "import pandas as pd \n",
    "import matplotlib.pyplot as plt \n",
    "from sklearn.model_selection import train_test_split\n",
    "from sklearn.svm import SVC\n",
    "from sklearn.ensemble import RandomForestClassifier\n",
    "from sklearn.neighbors import KNeighborsClassifier\n",
    "from sklearn.tree import DecisionTreeClassifier\n",
    "from sklearn.metrics import f1_score, confusion_matrix, accuracy_score, ConfusionMatrixDisplay\n",
    "import matplotlib.pyplot as plt\n",
    "Input_path='./EMG-data.csv'"
   ]
  },
  {
   "cell_type": "markdown",
   "id": "ce2df1de",
   "metadata": {},
   "source": [
    "## بارگذاری دادگان و اضافه کردن هدر"
   ]
  },
  {
   "cell_type": "code",
   "execution_count": 2,
   "id": "resistant-prayer",
   "metadata": {
    "_cell_guid": "8381a636-e49c-4bb7-9fc6-96212f80e7b8",
    "_uuid": "b1611d43-de08-4ad6-a6bc-092f1a99b58b",
    "collapsed": false,
    "execution": {
     "iopub.execute_input": "2021-05-29T04:17:11.968229Z",
     "iopub.status.busy": "2021-05-29T04:17:11.967502Z",
     "iopub.status.idle": "2021-05-29T04:17:19.715769Z",
     "shell.execute_reply": "2021-05-29T04:17:19.716347Z",
     "shell.execute_reply.started": "2021-05-28T18:10:16.240089Z"
    },
    "jupyter": {
     "outputs_hidden": false
    },
    "papermill": {
     "duration": 7.767903,
     "end_time": "2021-05-29T04:17:19.716546",
     "exception": false,
     "start_time": "2021-05-29T04:17:11.948643",
     "status": "completed"
    },
    "tags": []
   },
   "outputs": [
    {
     "name": "stdout",
     "output_type": "stream",
     "text": [
      "(4237906, 11)\n",
      "\n",
      "Empty values: 0\n",
      "   time      channel1  channel2  channel3  channel4  channel5      channel6  \\\n",
      "0     5 -3.164276e-07  0.000010  0.000023  0.000010  0.000013 -8.516675e-07   \n",
      "1     6 -1.811397e-05  0.000037  0.000050  0.000036  0.000021 -1.064517e-05   \n",
      "2     7 -1.637235e-05  0.000035  0.000046  0.000033  0.000020 -1.113199e-05   \n",
      "3     8 -1.529799e-05  0.000033  0.000043  0.000030  0.000018 -1.228960e-05   \n",
      "4     9 -1.489230e-05  0.000032  0.000039  0.000028  0.000016 -1.392010e-05   \n",
      "\n",
      "       channel7  channel8  class  label  \n",
      "0  8.176374e-07  0.000010      0      1  \n",
      "1 -8.248224e-06  0.000027      0      1  \n",
      "2 -7.793686e-06  0.000025      0      1  \n",
      "3 -7.901087e-06  0.000024      0      1  \n",
      "4 -8.511888e-06  0.000022      0      1  \n"
     ]
    }
   ],
   "source": [
    "dataset = pd.read_csv(Input_path)\n",
    "print(dataset.shape)\n",
    "\n",
    "# Check for any null/empty values\n",
    "print(\"\\nEmpty values:\", dataset.isnull().any().sum())\n",
    "\n",
    "# Define the header for the data\n",
    "header = ['time', 'channel1', 'channel2', 'channel3', 'channel4', 'channel5', 'channel6', 'channel7', 'channel8', 'class', 'label']\n",
    "\n",
    "# Add the header to the dataset\n",
    "dataset.columns = header\n",
    "\n",
    "# Print the updated dataset\n",
    "print(dataset.head())\n",
    "\n"
   ]
  },
  {
   "cell_type": "markdown",
   "id": "b233c0bf",
   "metadata": {},
   "source": [
    "## پاکسازی داده ها با حذف ستون های بلا استفاده"
   ]
  },
  {
   "cell_type": "code",
   "execution_count": 3,
   "id": "interracial-metropolitan",
   "metadata": {
    "execution": {
     "iopub.execute_input": "2021-05-29T04:17:19.931519Z",
     "iopub.status.busy": "2021-05-29T04:17:19.930681Z",
     "iopub.status.idle": "2021-05-29T04:17:20.002943Z",
     "shell.execute_reply": "2021-05-29T04:17:20.002212Z",
     "shell.execute_reply.started": "2021-05-28T18:10:20.771845Z"
    },
    "papermill": {
     "duration": 0.270511,
     "end_time": "2021-05-29T04:17:20.003108",
     "exception": false,
     "start_time": "2021-05-29T04:17:19.732597",
     "status": "completed"
    },
    "tags": []
   },
   "outputs": [
    {
     "name": "stdout",
     "output_type": "stream",
     "text": [
      "[0 1 2 3 4 5 6 7]\n",
      "Value Count :\n",
      " class\n",
      "0    2725156\n",
      "6     253009\n",
      "5     251733\n",
      "4     251570\n",
      "1     250055\n",
      "3     249494\n",
      "2     243193\n",
      "7      13696\n",
      "Name: count, dtype: int64\n"
     ]
    }
   ],
   "source": [
    "dataset=dataset.drop(columns=[\"time\"])\n",
    "Class = dataset[\"class\"]\n",
    "print(Class.unique())\n",
    "print(\"Value Count :\\n\", dataset[\"class\"].value_counts())"
   ]
  },
  {
   "cell_type": "markdown",
   "id": "a403409b",
   "metadata": {},
   "source": [
    "## دسته بندی داده ها بر اساس برچسب ها برای استخراج ویژگی ها"
   ]
  },
  {
   "cell_type": "code",
   "execution_count": 4,
   "id": "stylish-fence",
   "metadata": {
    "execution": {
     "iopub.execute_input": "2021-05-29T04:17:21.848476Z",
     "iopub.status.busy": "2021-05-29T04:17:21.847400Z",
     "iopub.status.idle": "2021-05-29T04:17:21.850876Z",
     "shell.execute_reply": "2021-05-29T04:17:21.851362Z",
     "shell.execute_reply.started": "2021-05-28T18:10:22.362428Z"
    },
    "papermill": {
     "duration": 0.026668,
     "end_time": "2021-05-29T04:17:21.851584",
     "exception": false,
     "start_time": "2021-05-29T04:17:21.824916",
     "status": "completed"
    },
    "tags": []
   },
   "outputs": [],
   "source": [
    "dataset=dataset.groupby(['label','class'])"
   ]
  },
  {
   "cell_type": "code",
   "execution_count": 5,
   "id": "604384bc",
   "metadata": {},
   "outputs": [],
   "source": [
    "##functions for extracting sEMG features\n",
    "def rms(data): ##root mean square\n",
    "      return  np.sqrt(np.mean(data**2,axis=0))  \n",
    "\n",
    "def SSI(data): ##Simple Square Integral\n",
    "    return np.sum(data**2,axis=0)\n",
    "\n",
    "def abs_diffs_signal(data): ##absolute differential signal\n",
    "    return np.sum(np.abs(np.diff(data,axis=0)),axis=0)\n",
    "\n",
    "##function for returning an estimator class name \n",
    "def print_estimator_name(estimator):\n",
    "    return estimator.__class__.__name__"
   ]
  },
  {
   "cell_type": "code",
   "execution_count": 6,
   "id": "caring-elephant",
   "metadata": {
    "execution": {
     "iopub.execute_input": "2021-05-29T04:17:21.893546Z",
     "iopub.status.busy": "2021-05-29T04:17:21.892723Z",
     "iopub.status.idle": "2021-05-29T04:17:21.895830Z",
     "shell.execute_reply": "2021-05-29T04:17:21.896263Z",
     "shell.execute_reply.started": "2021-05-28T18:10:22.369935Z"
    },
    "papermill": {
     "duration": 0.028036,
     "end_time": "2021-05-29T04:17:21.896490",
     "exception": false,
     "start_time": "2021-05-29T04:17:21.868454",
     "status": "completed"
    },
    "tags": []
   },
   "outputs": [],
   "source": [
    "#feature extraction\n",
    "dataset=dataset.agg(['min','max',rms,SSI,abs_diffs_signal,np.ptp])"
   ]
  },
  {
   "cell_type": "code",
   "execution_count": 7,
   "id": "activated-wellington",
   "metadata": {
    "execution": {
     "iopub.execute_input": "2021-05-29T04:17:21.990987Z",
     "iopub.status.busy": "2021-05-29T04:17:21.990252Z",
     "iopub.status.idle": "2021-05-29T04:17:24.928114Z",
     "shell.execute_reply": "2021-05-29T04:17:24.926826Z",
     "shell.execute_reply.started": "2021-05-28T18:10:22.383382Z"
    },
    "papermill": {
     "duration": 3.013519,
     "end_time": "2021-05-29T04:17:24.928336",
     "exception": false,
     "start_time": "2021-05-29T04:17:21.914817",
     "status": "completed"
    },
    "tags": []
   },
   "outputs": [
    {
     "data": {
      "text/html": [
       "<div>\n",
       "<style scoped>\n",
       "    .dataframe tbody tr th:only-of-type {\n",
       "        vertical-align: middle;\n",
       "    }\n",
       "\n",
       "    .dataframe tbody tr th {\n",
       "        vertical-align: top;\n",
       "    }\n",
       "\n",
       "    .dataframe thead tr th {\n",
       "        text-align: left;\n",
       "    }\n",
       "</style>\n",
       "<table border=\"1\" class=\"dataframe\">\n",
       "  <thead>\n",
       "    <tr>\n",
       "      <th></th>\n",
       "      <th>label</th>\n",
       "      <th>class</th>\n",
       "      <th colspan=\"6\" halign=\"left\">channel1</th>\n",
       "      <th colspan=\"2\" halign=\"left\">channel2</th>\n",
       "      <th>...</th>\n",
       "      <th colspan=\"4\" halign=\"left\">channel7</th>\n",
       "      <th colspan=\"6\" halign=\"left\">channel8</th>\n",
       "    </tr>\n",
       "    <tr>\n",
       "      <th></th>\n",
       "      <th></th>\n",
       "      <th></th>\n",
       "      <th>min</th>\n",
       "      <th>max</th>\n",
       "      <th>rms</th>\n",
       "      <th>SSI</th>\n",
       "      <th>abs_diffs_signal</th>\n",
       "      <th>ptp</th>\n",
       "      <th>min</th>\n",
       "      <th>max</th>\n",
       "      <th>...</th>\n",
       "      <th>rms</th>\n",
       "      <th>SSI</th>\n",
       "      <th>abs_diffs_signal</th>\n",
       "      <th>ptp</th>\n",
       "      <th>min</th>\n",
       "      <th>max</th>\n",
       "      <th>rms</th>\n",
       "      <th>SSI</th>\n",
       "      <th>abs_diffs_signal</th>\n",
       "      <th>ptp</th>\n",
       "    </tr>\n",
       "  </thead>\n",
       "  <tbody>\n",
       "    <tr>\n",
       "      <th>0</th>\n",
       "      <td>1</td>\n",
       "      <td>0</td>\n",
       "      <td>-0.001246</td>\n",
       "      <td>0.001338</td>\n",
       "      <td>0.000120</td>\n",
       "      <td>0.001137</td>\n",
       "      <td>0.918665</td>\n",
       "      <td>0.002584</td>\n",
       "      <td>-0.001137</td>\n",
       "      <td>0.001505</td>\n",
       "      <td>...</td>\n",
       "      <td>0.000112</td>\n",
       "      <td>9.898801e-04</td>\n",
       "      <td>0.893290</td>\n",
       "      <td>0.002269</td>\n",
       "      <td>-0.001169</td>\n",
       "      <td>0.001197</td>\n",
       "      <td>0.000123</td>\n",
       "      <td>1.197011e-03</td>\n",
       "      <td>0.956098</td>\n",
       "      <td>0.002366</td>\n",
       "    </tr>\n",
       "    <tr>\n",
       "      <th>1</th>\n",
       "      <td>1</td>\n",
       "      <td>1</td>\n",
       "      <td>-0.000047</td>\n",
       "      <td>0.000055</td>\n",
       "      <td>0.000013</td>\n",
       "      <td>0.000001</td>\n",
       "      <td>0.014994</td>\n",
       "      <td>0.000102</td>\n",
       "      <td>-0.000088</td>\n",
       "      <td>0.000081</td>\n",
       "      <td>...</td>\n",
       "      <td>0.000010</td>\n",
       "      <td>6.709262e-07</td>\n",
       "      <td>0.012195</td>\n",
       "      <td>0.000062</td>\n",
       "      <td>-0.000039</td>\n",
       "      <td>0.000042</td>\n",
       "      <td>0.000010</td>\n",
       "      <td>7.639383e-07</td>\n",
       "      <td>0.012923</td>\n",
       "      <td>0.000080</td>\n",
       "    </tr>\n",
       "    <tr>\n",
       "      <th>2</th>\n",
       "      <td>1</td>\n",
       "      <td>2</td>\n",
       "      <td>-0.001251</td>\n",
       "      <td>0.000898</td>\n",
       "      <td>0.000196</td>\n",
       "      <td>0.000261</td>\n",
       "      <td>0.227934</td>\n",
       "      <td>0.002149</td>\n",
       "      <td>-0.000468</td>\n",
       "      <td>0.000379</td>\n",
       "      <td>...</td>\n",
       "      <td>0.000202</td>\n",
       "      <td>2.763568e-04</td>\n",
       "      <td>0.219553</td>\n",
       "      <td>0.001627</td>\n",
       "      <td>-0.000641</td>\n",
       "      <td>0.000538</td>\n",
       "      <td>0.000138</td>\n",
       "      <td>1.294359e-04</td>\n",
       "      <td>0.159983</td>\n",
       "      <td>0.001178</td>\n",
       "    </tr>\n",
       "    <tr>\n",
       "      <th>3</th>\n",
       "      <td>1</td>\n",
       "      <td>3</td>\n",
       "      <td>-0.001070</td>\n",
       "      <td>0.001188</td>\n",
       "      <td>0.000177</td>\n",
       "      <td>0.000229</td>\n",
       "      <td>0.199159</td>\n",
       "      <td>0.002259</td>\n",
       "      <td>-0.001355</td>\n",
       "      <td>0.001331</td>\n",
       "      <td>...</td>\n",
       "      <td>0.000072</td>\n",
       "      <td>3.848637e-05</td>\n",
       "      <td>0.079111</td>\n",
       "      <td>0.000629</td>\n",
       "      <td>-0.000745</td>\n",
       "      <td>0.000545</td>\n",
       "      <td>0.000151</td>\n",
       "      <td>1.679604e-04</td>\n",
       "      <td>0.164167</td>\n",
       "      <td>0.001290</td>\n",
       "    </tr>\n",
       "    <tr>\n",
       "      <th>4</th>\n",
       "      <td>1</td>\n",
       "      <td>4</td>\n",
       "      <td>-0.000172</td>\n",
       "      <td>0.000236</td>\n",
       "      <td>0.000050</td>\n",
       "      <td>0.000017</td>\n",
       "      <td>0.049243</td>\n",
       "      <td>0.000408</td>\n",
       "      <td>-0.000359</td>\n",
       "      <td>0.000292</td>\n",
       "      <td>...</td>\n",
       "      <td>0.000107</td>\n",
       "      <td>7.865361e-05</td>\n",
       "      <td>0.101885</td>\n",
       "      <td>0.000921</td>\n",
       "      <td>-0.000327</td>\n",
       "      <td>0.000376</td>\n",
       "      <td>0.000074</td>\n",
       "      <td>3.770579e-05</td>\n",
       "      <td>0.067639</td>\n",
       "      <td>0.000703</td>\n",
       "    </tr>\n",
       "  </tbody>\n",
       "</table>\n",
       "<p>5 rows × 50 columns</p>\n",
       "</div>"
      ],
      "text/plain": [
       "  label class  channel1                                                 \\\n",
       "                    min       max       rms       SSI abs_diffs_signal   \n",
       "0     1     0 -0.001246  0.001338  0.000120  0.001137         0.918665   \n",
       "1     1     1 -0.000047  0.000055  0.000013  0.000001         0.014994   \n",
       "2     1     2 -0.001251  0.000898  0.000196  0.000261         0.227934   \n",
       "3     1     3 -0.001070  0.001188  0.000177  0.000229         0.199159   \n",
       "4     1     4 -0.000172  0.000236  0.000050  0.000017         0.049243   \n",
       "\n",
       "             channel2            ...  channel7                                 \\\n",
       "        ptp       min       max  ...       rms           SSI abs_diffs_signal   \n",
       "0  0.002584 -0.001137  0.001505  ...  0.000112  9.898801e-04         0.893290   \n",
       "1  0.000102 -0.000088  0.000081  ...  0.000010  6.709262e-07         0.012195   \n",
       "2  0.002149 -0.000468  0.000379  ...  0.000202  2.763568e-04         0.219553   \n",
       "3  0.002259 -0.001355  0.001331  ...  0.000072  3.848637e-05         0.079111   \n",
       "4  0.000408 -0.000359  0.000292  ...  0.000107  7.865361e-05         0.101885   \n",
       "\n",
       "             channel8                                                     \\\n",
       "        ptp       min       max       rms           SSI abs_diffs_signal   \n",
       "0  0.002269 -0.001169  0.001197  0.000123  1.197011e-03         0.956098   \n",
       "1  0.000062 -0.000039  0.000042  0.000010  7.639383e-07         0.012923   \n",
       "2  0.001627 -0.000641  0.000538  0.000138  1.294359e-04         0.159983   \n",
       "3  0.000629 -0.000745  0.000545  0.000151  1.679604e-04         0.164167   \n",
       "4  0.000921 -0.000327  0.000376  0.000074  3.770579e-05         0.067639   \n",
       "\n",
       "             \n",
       "        ptp  \n",
       "0  0.002366  \n",
       "1  0.000080  \n",
       "2  0.001178  \n",
       "3  0.001290  \n",
       "4  0.000703  \n",
       "\n",
       "[5 rows x 50 columns]"
      ]
     },
     "execution_count": 7,
     "metadata": {},
     "output_type": "execute_result"
    }
   ],
   "source": [
    "dataset=dataset.reset_index()\n",
    "dataset.head()"
   ]
  },
  {
   "cell_type": "markdown",
   "id": "61526fcc",
   "metadata": {},
   "source": [
    "# پیاده سازی طبقه بندهای مختلف"
   ]
  },
  {
   "cell_type": "code",
   "execution_count": 39,
   "id": "immune-antarctica",
   "metadata": {
    "_cell_guid": "b124d9e3-d05c-41a4-aea6-71281568257c",
    "_uuid": "6303ff9a-b78e-437b-97f0-ee390256cb50",
    "collapsed": false,
    "execution": {
     "iopub.execute_input": "2021-05-29T04:17:25.118232Z",
     "iopub.status.busy": "2021-05-29T04:17:25.117406Z",
     "iopub.status.idle": "2021-05-29T04:17:27.066817Z",
     "shell.execute_reply": "2021-05-29T04:17:27.067394Z",
     "shell.execute_reply.started": "2021-05-28T18:10:25.238186Z"
    },
    "jupyter": {
     "outputs_hidden": false
    },
    "papermill": {
     "duration": 1.979572,
     "end_time": "2021-05-29T04:17:27.067622",
     "exception": false,
     "start_time": "2021-05-29T04:17:25.088050",
     "status": "completed"
    },
    "tags": []
   },
   "outputs": [
    {
     "name": "stderr",
     "output_type": "stream",
     "text": [
      "C:\\Users\\asus\\AppData\\Local\\Temp\\ipykernel_13408\\3190141234.py:4: PerformanceWarning: dropping on a non-lexsorted multi-index without a level parameter may impact performance.\n",
      "  features=dataset.drop(columns=[\"label\",\"class\"])\n"
     ]
    },
    {
     "name": "stdout",
     "output_type": "stream",
     "text": [
      "[[10  0  0  0  0  0  0]\n",
      " [ 0  5  0  0  0  0  0]\n",
      " [ 0  0  7  2  0  0  0]\n",
      " [ 0  0  0  9  0  0  0]\n",
      " [ 0  0  0  0 11  1  0]\n",
      " [ 0  0  0  0  1  5  0]\n",
      " [ 0  0  3  3  0  0  7]]\n",
      "Accuracy: 0.84375\n"
     ]
    },
    {
     "data": {
      "image/png": "[encoded data removed]",
      "text/plain": [
       "<Figure size 640x480 with 2 Axes>"
      ]
     },
     "metadata": {},
     "output_type": "display_data"
    }
   ],
   "source": [
    "estimators=[]\n",
    "accuracy=[]\n",
    "svc=SVC(C=100,kernel='poly',gamma=0.01,decision_function_shape='ovo')\n",
    "features=dataset.drop(columns=[\"label\",\"class\"])\n",
    "labels=dataset[\"class\"]\n",
    "##Training and testing set splitting\n",
    "X_train, X_test,y_train,y_test= train_test_split(features,labels,test_size=0.25, random_state=1)\n",
    "## Data normalization\n",
    "mean = X_train.mean(axis=0)\n",
    "std = X_train.std(axis=0)\n",
    "X_train -= mean\n",
    "X_train /= std\n",
    "X_test -= mean\n",
    "X_test /= std\n",
    "svc.fit(X_train,y_train)\n",
    "y_test_pred=svc.predict(X_test)\n",
    "conf_matrix=confusion_matrix(y_test,y_test_pred)\n",
    "a=accuracy_score(y_test,y_test_pred)\n",
    "print(conf_matrix)\n",
    "estimators.append(print_estimator_name(svc))\n",
    "accuracy.append(a)\n",
    "\n",
    "# Displaying F1 score, confusion matrix, and accuracy\n",
    "print(\"Accuracy:\", accuracy[0])\n",
    "\n",
    "# Visualizing confusion matrix\n",
    "disp = ConfusionMatrixDisplay(confusion_matrix=conf_matrix)\n",
    "disp.plot()\n",
    "plt.show()\n"
   ]
  },
  {
   "cell_type": "code",
   "execution_count": 40,
   "id": "dense-university",
   "metadata": {
    "execution": {
     "iopub.execute_input": "2021-05-29T04:17:27.159718Z",
     "iopub.status.busy": "2021-05-29T04:17:27.158587Z",
     "iopub.status.idle": "2021-05-29T04:17:27.596842Z",
     "shell.execute_reply": "2021-05-29T04:17:27.597421Z",
     "shell.execute_reply.started": "2021-05-28T18:10:25.612107Z"
    },
    "papermill": {
     "duration": 0.462103,
     "end_time": "2021-05-29T04:17:27.597643",
     "exception": false,
     "start_time": "2021-05-29T04:17:27.135540",
     "status": "completed"
    },
    "tags": []
   },
   "outputs": [
    {
     "name": "stderr",
     "output_type": "stream",
     "text": [
      "C:\\Users\\asus\\AppData\\Local\\Temp\\ipykernel_13408\\3406846023.py:3: PerformanceWarning: dropping on a non-lexsorted multi-index without a level parameter may impact performance.\n",
      "  features=dataset.drop(columns=[\"label\",\"class\"])\n"
     ]
    },
    {
     "name": "stdout",
     "output_type": "stream",
     "text": [
      "[[10  0  0  0  0  0  0]\n",
      " [ 0  5  0  0  0  0  0]\n",
      " [ 0  0  6  3  0  0  0]\n",
      " [ 0  0  0  9  0  0  0]\n",
      " [ 0  0  0  0 10  2  0]\n",
      " [ 0  1  0  0  0  5  0]\n",
      " [ 0  0  0  4  0  1  8]]\n",
      "Accuracy: 0.828125\n"
     ]
    },
    {
     "data": {
      "image/png": "[encoded data removed]",
      "text/plain": [
       "<Figure size 640x480 with 2 Axes>"
      ]
     },
     "metadata": {},
     "output_type": "display_data"
    }
   ],
   "source": [
    "## Training KNN Classifier\n",
    "knn=KNeighborsClassifier(metric='minkowski',algorithm= 'auto',n_neighbors=10,p=2,weights='distance',leaf_size=5)\n",
    "features=dataset.drop(columns=[\"label\",\"class\"])\n",
    "labels=dataset[\"class\"]\n",
    "X_train, X_test,y_train,y_test= train_test_split(features,labels,test_size=0.25, random_state=1)\n",
    "mean = X_train.mean(axis=0)\n",
    "std = X_train.std(axis=0)\n",
    "X_train -= mean\n",
    "X_train /= std\n",
    "X_test -= mean\n",
    "X_test /= std\n",
    "knn.fit(X_train,y_train)\n",
    "y_test_pred=knn.predict(X_test)\n",
    "x=confusion_matrix(y_test,y_test_pred)\n",
    "a=accuracy_score(y_test,y_test_pred)\n",
    "accuracy.append(a)\n",
    "print(x)\n",
    "estimators.append(print_estimator_name(knn))\n",
    "print(\"Accuracy:\", accuracy[1])\n",
    "conf_matrix = confusion_matrix(y_test, y_test_pred)\n",
    "disp = ConfusionMatrixDisplay(confusion_matrix=conf_matrix)\n",
    "disp.plot()\n",
    "plt.show()"
   ]
  },
  {
   "cell_type": "code",
   "execution_count": 41,
   "id": "signed-struggle",
   "metadata": {
    "execution": {
     "iopub.execute_input": "2021-05-29T04:17:27.643550Z",
     "iopub.status.busy": "2021-05-29T04:17:27.642419Z",
     "iopub.status.idle": "2021-05-29T04:17:28.011734Z",
     "shell.execute_reply": "2021-05-29T04:17:28.011035Z",
     "shell.execute_reply.started": "2021-05-28T18:10:26.042233Z"
    },
    "papermill": {
     "duration": 0.393892,
     "end_time": "2021-05-29T04:17:28.011914",
     "exception": false,
     "start_time": "2021-05-29T04:17:27.618022",
     "status": "completed"
    },
    "tags": []
   },
   "outputs": [
    {
     "name": "stderr",
     "output_type": "stream",
     "text": [
      "C:\\Users\\asus\\AppData\\Local\\Temp\\ipykernel_13408\\452150209.py:3: PerformanceWarning: dropping on a non-lexsorted multi-index without a level parameter may impact performance.\n",
      "  features=dataset.drop(columns=[\"label\",\"class\"])\n"
     ]
    },
    {
     "name": "stdout",
     "output_type": "stream",
     "text": [
      "[[9 0 1 0 0 0 0 0]\n",
      " [0 5 0 0 0 0 0 0]\n",
      " [0 0 8 1 0 0 0 0]\n",
      " [0 0 0 6 1 0 2 0]\n",
      " [1 0 2 0 8 1 0 0]\n",
      " [0 0 1 0 0 5 0 0]\n",
      " [1 0 0 2 0 0 8 2]\n",
      " [0 0 0 0 0 0 0 0]]\n",
      "Accuracy: 0.765625\n"
     ]
    },
    {
     "data": {
      "image/png": "[encoded data removed]",
      "text/plain": [
       "<Figure size 640x480 with 2 Axes>"
      ]
     },
     "metadata": {},
     "output_type": "display_data"
    }
   ],
   "source": [
    "## Training Decision Tree Classifier\n",
    "dt=DecisionTreeClassifier(criterion= 'entropy', max_depth= 50, max_features= 5, max_leaf_nodes= 50,min_samples_split=2)\n",
    "features=dataset.drop(columns=[\"label\",\"class\"])\n",
    "labels=dataset[\"class\"]\n",
    "X_train, X_test,y_train,y_test= train_test_split(features,labels,test_size=0.25, random_state=1)\n",
    "mean = X_train.mean(axis=0)\n",
    "std = X_train.std(axis=0)\n",
    "X_train -= mean\n",
    "X_train /= std\n",
    "X_test -= mean\n",
    "X_test /= std\n",
    "dt.fit(X_train,y_train)\n",
    "y_test_pred=dt.predict(X_test)\n",
    "x=confusion_matrix(y_test,y_test_pred)\n",
    "a=accuracy_score(y_test,y_test_pred)\n",
    "accuracy.append(a)\n",
    "print(x)\n",
    "print(\"Accuracy:\", accuracy[2])\n",
    "estimators.append(print_estimator_name(dt))\n",
    "conf_matrix = confusion_matrix(y_test, y_test_pred)\n",
    "disp = ConfusionMatrixDisplay(confusion_matrix=conf_matrix)\n",
    "disp.plot()\n",
    "plt.show()"
   ]
  },
  {
   "cell_type": "code",
   "execution_count": 42,
   "id": "assumed-greensboro",
   "metadata": {
    "execution": {
     "iopub.execute_input": "2021-05-29T04:17:28.089644Z",
     "iopub.status.busy": "2021-05-29T04:17:28.075576Z",
     "iopub.status.idle": "2021-05-29T04:17:34.811442Z",
     "shell.execute_reply": "2021-05-29T04:17:34.810691Z",
     "shell.execute_reply.started": "2021-05-28T18:10:26.391521Z"
    },
    "papermill": {
     "duration": 6.77743,
     "end_time": "2021-05-29T04:17:34.811606",
     "exception": false,
     "start_time": "2021-05-29T04:17:28.034176",
     "status": "completed"
    },
    "tags": []
   },
   "outputs": [
    {
     "name": "stderr",
     "output_type": "stream",
     "text": [
      "C:\\Users\\asus\\AppData\\Local\\Temp\\ipykernel_13408\\67121329.py:3: PerformanceWarning: dropping on a non-lexsorted multi-index without a level parameter may impact performance.\n",
      "  features=dataset.drop(columns=[\"label\",\"class\"])\n"
     ]
    },
    {
     "name": "stdout",
     "output_type": "stream",
     "text": [
      "[[10  0  0  0  0  0  0]\n",
      " [ 0  5  0  0  0  0  0]\n",
      " [ 0  0  9  0  0  0  0]\n",
      " [ 0  0  1  7  0  0  1]\n",
      " [ 0  0  0  0  9  2  1]\n",
      " [ 0  1  0  0  0  5  0]\n",
      " [ 0  0  0  5  0  0  8]]\n",
      "Accuracy: 0.828125\n"
     ]
    },
    {
     "data": {
      "image/png": "[encoded data removed]",
      "text/plain": [
       "<Figure size 640x480 with 2 Axes>"
      ]
     },
     "metadata": {},
     "output_type": "display_data"
    }
   ],
   "source": [
    "## Training Random Forest classifier\n",
    "rfc=RandomForestClassifier(criterion= 'entropy', max_depth= 50, max_features= 5, max_leaf_nodes= 50,min_samples_split=2,n_estimators=2000,oob_score=True)\n",
    "features=dataset.drop(columns=[\"label\",\"class\"])\n",
    "labels=dataset[\"class\"]\n",
    "X_train, X_test,y_train,y_test= train_test_split(features,labels,test_size=0.25, random_state=1)\n",
    "mean = X_train.mean(axis=0)\n",
    "std = X_train.std(axis=0)\n",
    "X_train -= mean\n",
    "X_train /= std\n",
    "X_test -= mean\n",
    "X_test /= std\n",
    "rfc.fit(X_train,y_train)\n",
    "y_test_pred=rfc.predict(X_test)\n",
    "x=confusion_matrix(y_test,y_test_pred)\n",
    "a=accuracy_score(y_test,y_test_pred)\n",
    "accuracy.append(a)\n",
    "print(x)\n",
    "print(\"Accuracy:\", accuracy[3])\n",
    "estimators.append(print_estimator_name(rfc))\n",
    "conf_matrix = confusion_matrix(y_test, y_test_pred)\n",
    "disp = ConfusionMatrixDisplay(confusion_matrix=conf_matrix)\n",
    "disp.plot()\n",
    "plt.show()"
   ]
  },
  {
   "cell_type": "code",
   "execution_count": 43,
   "id": "considerable-account",
   "metadata": {
    "execution": {
     "iopub.execute_input": "2021-05-29T04:17:34.865478Z",
     "iopub.status.busy": "2021-05-29T04:17:34.864454Z",
     "iopub.status.idle": "2021-05-29T04:17:34.870268Z",
     "shell.execute_reply": "2021-05-29T04:17:34.869550Z",
     "shell.execute_reply.started": "2021-05-28T18:10:32.719330Z"
    },
    "papermill": {
     "duration": 0.03541,
     "end_time": "2021-05-29T04:17:34.870436",
     "exception": false,
     "start_time": "2021-05-29T04:17:34.835026",
     "status": "completed"
    },
    "tags": []
   },
   "outputs": [
    {
     "data": {
      "text/plain": [
       "['SVC',\n",
       " 'KNeighborsClassifier',\n",
       " 'DecisionTreeClassifier',\n",
       " 'RandomForestClassifier']"
      ]
     },
     "execution_count": 43,
     "metadata": {},
     "output_type": "execute_result"
    }
   ],
   "source": [
    "estimators"
   ]
  },
  {
   "cell_type": "code",
   "execution_count": 45,
   "id": "tamil-target",
   "metadata": {
    "execution": {
     "iopub.execute_input": "2021-05-29T04:17:34.924409Z",
     "iopub.status.busy": "2021-05-29T04:17:34.923657Z",
     "iopub.status.idle": "2021-05-29T04:17:34.927451Z",
     "shell.execute_reply": "2021-05-29T04:17:34.926675Z",
     "shell.execute_reply.started": "2021-05-28T18:10:32.726942Z"
    },
    "papermill": {
     "duration": 0.033438,
     "end_time": "2021-05-29T04:17:34.927617",
     "exception": false,
     "start_time": "2021-05-29T04:17:34.894179",
     "status": "completed"
    },
    "tags": []
   },
   "outputs": [],
   "source": [
    "for i in np.arange(len(estimators)):\n",
    "    accuracy[i]=round(accuracy[i],3)"
   ]
  },
  {
   "cell_type": "code",
   "execution_count": 47,
   "id": "indirect-wheel",
   "metadata": {
    "execution": {
     "iopub.execute_input": "2021-05-29T04:17:35.019016Z",
     "iopub.status.busy": "2021-05-29T04:17:35.004831Z",
     "iopub.status.idle": "2021-05-29T04:17:35.173658Z",
     "shell.execute_reply": "2021-05-29T04:17:35.174282Z",
     "shell.execute_reply.started": "2021-05-28T18:10:32.738369Z"
    },
    "papermill": {
     "duration": 0.222525,
     "end_time": "2021-05-29T04:17:35.174557",
     "exception": false,
     "start_time": "2021-05-29T04:17:34.952032",
     "status": "completed"
    },
    "tags": []
   },
   "outputs": [
    {
     "data": {
      "image/png": "[encoded data removed]",
      "text/plain": [
       "<Figure size 640x480 with 1 Axes>"
      ]
     },
     "metadata": {},
     "output_type": "display_data"
    }
   ],
   "source": [
    "## plotting results of comparative study\n",
    "estimators=['SVC','KNN','DecisionTree','RandomForest']\n",
    "fig, ax = plt.subplots()\n",
    "width=0.2\n",
    "bar_plot1 = ax.bar(np.arange(len(estimators)),accuracy,width,tick_label=estimators)\n",
    "\n",
    "ax.set_xlabel('Classifiers')\n",
    "ax.set_ylabel('Metric Performance')\n",
    "ax.legend(('Accuracy'),loc='upper right')\n",
    "\n",
    "def autolabel(rects):\n",
    "    for rect in rects:\n",
    "        height = rect.get_height()\n",
    "        ax.text(rect.get_x() + rect.get_width()/2., 0.5*height,height,ha='center', va='bottom', rotation=90)\n",
    "autolabel(bar_plot1)\n",
    "plt.show()"
   ]
  }
 ],
 "metadata": {
  "kernelspec": {
   "display_name": "Python 3",
   "language": "python",
   "name": "python3"
  },
  "language_info": {
   "codemirror_mode": {
    "name": "ipython",
    "version": 3
   },
   "file_extension": ".py",
   "mimetype": "text/x-python",
   "name": "python",
   "nbconvert_exporter": "python",
   "pygments_lexer": "ipython3",
   "version": "3.11.2"
  },
  "papermill": {
   "default_parameters": {},
   "duration": 31.025975,
   "end_time": "2021-05-29T04:17:36.213508",
   "environment_variables": {},
   "exception": null,
   "input_path": "__notebook__.ipynb",
   "output_path": "__notebook__.ipynb",
   "parameters": {},
   "start_time": "2021-05-29T04:17:05.187533",
   "version": "2.3.2"
  }
 },
 "nbformat": 4,
 "nbformat_minor": 5
}
